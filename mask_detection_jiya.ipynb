{
 "cells": [
  {
   "cell_type": "code",
   "execution_count": 4,
   "metadata": {},
   "outputs": [
    {
     "name": "stdout",
     "output_type": "stream",
     "text": [
      "Collecting package metadata (current_repodata.json): ...working... done\n",
      "Solving environment: ...working... done\n",
      "\n",
      "# All requested packages already installed.\n",
      "\n",
      "\n",
      "Note: you may need to restart the kernel to use updated packages.\n"
     ]
    }
   ],
   "source": [
    "conda install keras==2.3.1"
   ]
  },
  {
   "cell_type": "code",
   "execution_count": 1,
   "metadata": {
    "colab": {
     "base_uri": "https://localhost:8080/"
    },
    "id": "DBFx0EVcDT72",
    "outputId": "f982abd2-4534-43e2-a2ff-59dd43d17715"
   },
   "outputs": [
    {
     "name": "stderr",
     "output_type": "stream",
     "text": [
      "Using TensorFlow backend.\n"
     ]
    },
    {
     "name": "stdout",
     "output_type": "stream",
     "text": [
      "2.3.1\n",
      "2.0.0\n"
     ]
    }
   ],
   "source": [
    "import keras_preprocessing\n",
    "import keras\n",
    "from keras.preprocessing.image import ImageDataGenerator\n",
    "from keras.optimizers import Adam\n",
    "from keras.callbacks import ModelCheckpoint\n",
    "\n",
    "\n",
    "#for accuracy and loss graph\n",
    "import matplotlib.pyplot as plt\n",
    "\n",
    "import tensorflow\n",
    "print(keras.__version__)\n",
    "print(tensorflow.__version__)\n",
    "#ResNet, short for Residual Networks is a classic neural network used as a backbone for many computer vision tasks.\n",
    "#resnet152V2"
   ]
  },
  {
   "cell_type": "code",
   "execution_count": 2,
   "metadata": {
    "id": "8oyPCiSt9fzi"
   },
   "outputs": [],
   "source": [
    "train_data_path = \"/content/drive/MyDrive/Colab Notebooks/mask detection/dataset/train\"\n",
    "validation_data_path = \"/content/drive/MyDrive/Colab Notebooks/mask detection/dataset/valid\""
   ]
  },
  {
   "cell_type": "code",
   "execution_count": 3,
   "metadata": {
    "id": "F9GPkk8V96-u"
   },
   "outputs": [],
   "source": [
    "# check for augmented images\n",
    "def plotImages(images_arr):\n",
    "  fig, axes = plt.subplots(1, 5, figsize=(20, 20))\n",
    "  axes = axes.flatten()\n",
    "  for img, ax in zip(images_arr, axes):\n",
    "    ax.imshow(img)\n",
    "  plt.tight_layout()\n",
    "  plt.show()"
   ]
  },
  {
   "cell_type": "code",
   "execution_count": 4,
   "metadata": {
    "id": "8GzqS9fPAHem"
   },
   "outputs": [],
   "source": [
    "# this is the augmentation configuration we will use for trainig\n",
    "#it generates more images using the parameters defined below\n",
    "# deep learning requires a lot of datasets for prediction model to work well\n",
    "#use augmentation configuration to generate more images using datasets, and use \n",
    "#the parameters as shown below, augemnt images based on parameters below(zoom, crop, resize etc)\n",
    "training_datagen = ImageDataGenerator(rescale=1./255,\n",
    "                                      rotation_range=40,\n",
    "                                      width_shift_range=0.2,\n",
    "                                      height_shift_range=0.2,\n",
    "                                      shear_range=0.2,\n",
    "                                      zoom_range=0.2,\n",
    "                                      horizontal_flip=True,\n",
    "                                      fill_mode='nearest')"
   ]
  },
  {
   "cell_type": "code",
   "execution_count": 5,
   "metadata": {
    "colab": {
     "base_uri": "https://localhost:8080/"
    },
    "id": "xMyMhGPd-xgI",
    "outputId": "59c750c7-2a0b-4029-8b6b-11876336fa73"
   },
   "outputs": [
    {
     "ename": "FileNotFoundError",
     "evalue": "[WinError 3] The system cannot find the path specified: '/content/drive/MyDrive/Colab Notebooks/mask detection/dataset/train'",
     "output_type": "error",
     "traceback": [
      "\u001b[1;31m---------------------------------------------------------------------------\u001b[0m",
      "\u001b[1;31mFileNotFoundError\u001b[0m                         Traceback (most recent call last)",
      "\u001b[1;32m<ipython-input-5-de4929c84216>\u001b[0m in \u001b[0;36m<module>\u001b[1;34m\u001b[0m\n\u001b[0;32m      4\u001b[0m                                                      \u001b[0mtarget_size\u001b[0m\u001b[1;33m=\u001b[0m\u001b[1;33m(\u001b[0m\u001b[1;36m200\u001b[0m\u001b[1;33m,\u001b[0m\u001b[1;36m200\u001b[0m\u001b[1;33m)\u001b[0m\u001b[1;33m,\u001b[0m \u001b[1;31m#resize the images to this\u001b[0m\u001b[1;33m\u001b[0m\u001b[1;33m\u001b[0m\u001b[0m\n\u001b[0;32m      5\u001b[0m                                                      \u001b[0mbatch_size\u001b[0m\u001b[1;33m=\u001b[0m \u001b[1;36m128\u001b[0m\u001b[1;33m,\u001b[0m\u001b[1;33m\u001b[0m\u001b[1;33m\u001b[0m\u001b[0m\n\u001b[1;32m----> 6\u001b[1;33m                                                      class_mode= 'binary') #since we use binary_crossentropy loss, we need binary\n\u001b[0m",
      "\u001b[1;32mc:\\users\\jaweria\\miniconda3\\envs\\py37\\lib\\site-packages\\keras\\preprocessing\\image.py\u001b[0m in \u001b[0;36mflow_from_directory\u001b[1;34m(self, directory, target_size, color_mode, classes, class_mode, batch_size, shuffle, seed, save_to_dir, save_prefix, save_format, follow_links, subset, interpolation)\u001b[0m\n\u001b[0;32m    465\u001b[0m             \u001b[0mfollow_links\u001b[0m\u001b[1;33m=\u001b[0m\u001b[0mfollow_links\u001b[0m\u001b[1;33m,\u001b[0m\u001b[1;33m\u001b[0m\u001b[1;33m\u001b[0m\u001b[0m\n\u001b[0;32m    466\u001b[0m             \u001b[0msubset\u001b[0m\u001b[1;33m=\u001b[0m\u001b[0msubset\u001b[0m\u001b[1;33m,\u001b[0m\u001b[1;33m\u001b[0m\u001b[1;33m\u001b[0m\u001b[0m\n\u001b[1;32m--> 467\u001b[1;33m             \u001b[0minterpolation\u001b[0m\u001b[1;33m=\u001b[0m\u001b[0minterpolation\u001b[0m\u001b[1;33m\u001b[0m\u001b[1;33m\u001b[0m\u001b[0m\n\u001b[0m\u001b[0;32m    468\u001b[0m         )\n\u001b[0;32m    469\u001b[0m \u001b[1;33m\u001b[0m\u001b[0m\n",
      "\u001b[1;32mc:\\users\\jaweria\\miniconda3\\envs\\py37\\lib\\site-packages\\keras\\preprocessing\\image.py\u001b[0m in \u001b[0;36m__init__\u001b[1;34m(self, directory, image_data_generator, target_size, color_mode, classes, class_mode, batch_size, shuffle, seed, data_format, save_to_dir, save_prefix, save_format, follow_links, subset, interpolation, dtype)\u001b[0m\n\u001b[0;32m    148\u001b[0m             \u001b[0msubset\u001b[0m\u001b[1;33m=\u001b[0m\u001b[0msubset\u001b[0m\u001b[1;33m,\u001b[0m\u001b[1;33m\u001b[0m\u001b[1;33m\u001b[0m\u001b[0m\n\u001b[0;32m    149\u001b[0m             \u001b[0minterpolation\u001b[0m\u001b[1;33m=\u001b[0m\u001b[0minterpolation\u001b[0m\u001b[1;33m,\u001b[0m\u001b[1;33m\u001b[0m\u001b[1;33m\u001b[0m\u001b[0m\n\u001b[1;32m--> 150\u001b[1;33m             dtype=dtype)\n\u001b[0m\u001b[0;32m    151\u001b[0m \u001b[1;33m\u001b[0m\u001b[0m\n\u001b[0;32m    152\u001b[0m \u001b[1;33m\u001b[0m\u001b[0m\n",
      "\u001b[1;32mc:\\users\\jaweria\\miniconda3\\envs\\py37\\lib\\site-packages\\keras_preprocessing\\image\\directory_iterator.py\u001b[0m in \u001b[0;36m__init__\u001b[1;34m(self, directory, image_data_generator, target_size, color_mode, classes, class_mode, batch_size, shuffle, seed, data_format, save_to_dir, save_prefix, save_format, follow_links, subset, interpolation, dtype)\u001b[0m\n\u001b[0;32m    104\u001b[0m         \u001b[1;32mif\u001b[0m \u001b[1;32mnot\u001b[0m \u001b[0mclasses\u001b[0m\u001b[1;33m:\u001b[0m\u001b[1;33m\u001b[0m\u001b[1;33m\u001b[0m\u001b[0m\n\u001b[0;32m    105\u001b[0m             \u001b[0mclasses\u001b[0m \u001b[1;33m=\u001b[0m \u001b[1;33m[\u001b[0m\u001b[1;33m]\u001b[0m\u001b[1;33m\u001b[0m\u001b[1;33m\u001b[0m\u001b[0m\n\u001b[1;32m--> 106\u001b[1;33m             \u001b[1;32mfor\u001b[0m \u001b[0msubdir\u001b[0m \u001b[1;32min\u001b[0m \u001b[0msorted\u001b[0m\u001b[1;33m(\u001b[0m\u001b[0mos\u001b[0m\u001b[1;33m.\u001b[0m\u001b[0mlistdir\u001b[0m\u001b[1;33m(\u001b[0m\u001b[0mdirectory\u001b[0m\u001b[1;33m)\u001b[0m\u001b[1;33m)\u001b[0m\u001b[1;33m:\u001b[0m\u001b[1;33m\u001b[0m\u001b[1;33m\u001b[0m\u001b[0m\n\u001b[0m\u001b[0;32m    107\u001b[0m                 \u001b[1;32mif\u001b[0m \u001b[0mos\u001b[0m\u001b[1;33m.\u001b[0m\u001b[0mpath\u001b[0m\u001b[1;33m.\u001b[0m\u001b[0misdir\u001b[0m\u001b[1;33m(\u001b[0m\u001b[0mos\u001b[0m\u001b[1;33m.\u001b[0m\u001b[0mpath\u001b[0m\u001b[1;33m.\u001b[0m\u001b[0mjoin\u001b[0m\u001b[1;33m(\u001b[0m\u001b[0mdirectory\u001b[0m\u001b[1;33m,\u001b[0m \u001b[0msubdir\u001b[0m\u001b[1;33m)\u001b[0m\u001b[1;33m)\u001b[0m\u001b[1;33m:\u001b[0m\u001b[1;33m\u001b[0m\u001b[1;33m\u001b[0m\u001b[0m\n\u001b[0;32m    108\u001b[0m                     \u001b[0mclasses\u001b[0m\u001b[1;33m.\u001b[0m\u001b[0mappend\u001b[0m\u001b[1;33m(\u001b[0m\u001b[0msubdir\u001b[0m\u001b[1;33m)\u001b[0m\u001b[1;33m\u001b[0m\u001b[1;33m\u001b[0m\u001b[0m\n",
      "\u001b[1;31mFileNotFoundError\u001b[0m: [WinError 3] The system cannot find the path specified: '/content/drive/MyDrive/Colab Notebooks/mask detection/dataset/train'"
     ]
    }
   ],
   "source": [
    "#this data will read images from dataset(from train data) \n",
    "# and generate batches of augmented data indefinitely\n",
    "training_data = training_datagen.flow_from_directory(train_data_path, #target directory we want to use\n",
    "                                                     target_size=(200,200), #resize the images to this\n",
    "                                                     batch_size= 128,\n",
    "                                                     class_mode= 'binary') #since we use binary_crossentropy loss, we need binary"
   ]
  },
  {
   "cell_type": "code",
   "execution_count": null,
   "metadata": {
    "colab": {
     "base_uri": "https://localhost:8080/"
    },
    "id": "Rhc8fiB0BHBi",
    "outputId": "22ca2628-ae9f-414c-dd53-a75c4d07ca4e"
   },
   "outputs": [],
   "source": [
    "from google.colab import drive\n",
    "drive.mount('/content/drive')"
   ]
  },
  {
   "cell_type": "code",
   "execution_count": null,
   "metadata": {
    "colab": {
     "base_uri": "https://localhost:8080/"
    },
    "id": "Uq3_R3dmCfVq",
    "outputId": "2a89d0bc-1f2d-4856-b4a9-aa7107a8925c"
   },
   "outputs": [],
   "source": [
    "training_data.class_indices"
   ]
  },
  {
   "cell_type": "code",
   "execution_count": null,
   "metadata": {
    "colab": {
     "base_uri": "https://localhost:8080/"
    },
    "id": "HHP-gBqdCuGY",
    "outputId": "1cc9df4d-223f-4375-9d11-37d49289ce4a"
   },
   "outputs": [],
   "source": [
    "#rescaling\n",
    "#augmentation configuration to be used for validation\n",
    "valid_datagen = ImageDataGenerator(rescale=1./255)\n",
    "#we now apply similar generator for the validation data(above we did it for training data)\n",
    "validation_data = valid_datagen.flow_from_directory(validation_data_path, #target directory we want to use\n",
    "                                                     target_size=(200,200), #resize the images to this\n",
    "                                                     batch_size= 128,\n",
    "                                                     class_mode= 'binary') #since we use binary_crossentropy loss, we need binary\n"
   ]
  },
  {
   "cell_type": "code",
   "execution_count": 3,
   "metadata": {
    "colab": {
     "base_uri": "https://localhost:8080/"
    },
    "id": "UCMEOFT5EoVc",
    "outputId": "3ee52482-c19b-4b95-eebb-073660070cf5"
   },
   "outputs": [
    {
     "ename": "NameError",
     "evalue": "name 'validation_data' is not defined",
     "output_type": "error",
     "traceback": [
      "\u001b[1;31m---------------------------------------------------------------------------\u001b[0m",
      "\u001b[1;31mNameError\u001b[0m                                 Traceback (most recent call last)",
      "\u001b[1;32m<ipython-input-3-abc93872d54a>\u001b[0m in \u001b[0;36m<module>\u001b[1;34m\u001b[0m\n\u001b[1;32m----> 1\u001b[1;33m \u001b[0mvalidation_data\u001b[0m\u001b[1;33m.\u001b[0m\u001b[0mclass_indices\u001b[0m\u001b[1;33m\u001b[0m\u001b[1;33m\u001b[0m\u001b[0m\n\u001b[0m",
      "\u001b[1;31mNameError\u001b[0m: name 'validation_data' is not defined"
     ]
    }
   ],
   "source": [
    "validation_data.class_indices"
   ]
  },
  {
   "cell_type": "code",
   "execution_count": null,
   "metadata": {
    "colab": {
     "base_uri": "https://localhost:8080/",
     "height": 297
    },
    "id": "j33PZoIPTY_Z",
    "outputId": "1c0df7f5-08dd-407f-fc5f-f52569a4d171"
   },
   "outputs": [],
   "source": [
    "#check to see augmented images\n",
    "images=[training_data[0][0][0] for i in range(5)]\n",
    "plotImages(images)"
   ]
  },
  {
   "cell_type": "code",
   "execution_count": null,
   "metadata": {
    "id": "Jaf922OKUkhO"
   },
   "outputs": [],
   "source": [
    "#save the best model among all the epochs\n",
    "model_path = '/content/drive/MyDrive/Colab Notebooks/modelsJ/model_jiya.h5'\n",
    "checkpoint = ModelCheckpoint(model_path, monitor='val_accuracy', verbose=1, save_best_only=True, mode='max')\n",
    "callbacks_list = [checkpoint]"
   ]
  },
  {
   "cell_type": "code",
   "execution_count": null,
   "metadata": {
    "id": "sPRMGg8yGcb4"
   },
   "outputs": [],
   "source": [
    "#building cnn model\n",
    "cnn_model = keras.models.Sequential([\n",
    "                                     keras.layers.Conv2D(filters=32, kernel_size=5, input_shape=[200,200,3]),\n",
    "                                     keras.layers.MaxPooling2D(pool_size=(4,4)),\n",
    "                                     keras.layers.Conv2D(filters=64, kernel_size=4),\n",
    "                                     keras.layers.MaxPooling2D(pool_size=(3,3)),\n",
    "                                     keras.layers.Conv2D(filters=128, kernel_size=3),\n",
    "                                     keras.layers.MaxPooling2D(pool_size=(2,2)),\n",
    "                                     keras.layers.Conv2D(filters=256, kernel_size=2),\n",
    "                                     keras.layers.MaxPooling2D(pool_size=(2,2)), #pool size and kernel sizes are changing\n",
    "\n",
    "                                     keras.layers.Dropout(0.5),\n",
    "                                     keras.layers.Flatten(), #neural network building, make filters into single array\n",
    "                                     keras.layers.Dense(units=128, activation='relu'), #input layers\n",
    "                                     keras.layers.Dropout(0.1),\n",
    "                                     keras.layers.Dense(units=256, activation='relu'),\n",
    "                                     keras.layers.Dropout(0.25),\n",
    "                                     keras.layers.Dense(units=2, activation='softmax') #output layer\n",
    "])"
   ]
  },
  {
   "cell_type": "code",
   "execution_count": null,
   "metadata": {
    "id": "y68xtvhUQ0us"
   },
   "outputs": [],
   "source": [
    "#compile cnn model\n",
    "cnn_model.compile(optimizer = Adam(lr=0.001), loss='sparse_categorical_crossentropy', metrics=['accuracy']) #lr(learning rate is 0.001, it's slow but very accurate)\n",
    "#cnn_model.compile(optimizer = Adam(lr=0.0001), loss='sparse_categorical_crossentropy', metrics=['accuracy'])#smaller the learning rate, more accurate"
   ]
  },
  {
   "cell_type": "code",
   "execution_count": null,
   "metadata": {
    "colab": {
     "base_uri": "https://localhost:8080/"
    },
    "id": "QlpJnRm5Rcog",
    "outputId": "0c0b8edf-ec6c-4f80-8ec8-eeaea9e6c179"
   },
   "outputs": [],
   "source": [
    "#train cnn model\n",
    "history = cnn_model.fit(training_data,\n",
    "                        epochs=50,\n",
    "                        verbose=1,\n",
    "                        validation_data= validation_data,\n",
    "                        callbacks=callbacks_list) #time start 14.25"
   ]
  },
  {
   "cell_type": "code",
   "execution_count": null,
   "metadata": {
    "id": "NgMFdtU2TWy7"
   },
   "outputs": [],
   "source": [
    "cnn_model.save('/content/drive/MyDrive/Colab Notebooks/modelsJ/model_last_jiya.h5')"
   ]
  },
  {
   "cell_type": "code",
   "execution_count": null,
   "metadata": {
    "id": "sqngM3JPTumF"
   },
   "outputs": [],
   "source": [
    "#train cnn model again, it will start with epoch 51 to 100 (basically training another 50 epochs to a total of 100 epochs)\n",
    "#more epochs will improve accuracy and prediction will be faster too\n",
    "history = cnn_model.fit(training_data,\n",
    "                        epochs=50,\n",
    "                        verbose=1,\n",
    "                        validation_data= validation_data,\n",
    "                        callbacks=callbacks_list) #time start 14.25"
   ]
  },
  {
   "cell_type": "code",
   "execution_count": null,
   "metadata": {
    "id": "hdSeAYF8UE0g"
   },
   "outputs": [],
   "source": [
    "cnn_model.save('/content/drive/MyDrive/Colab Notebooks/modelsJ/model_last_jiya.h5')"
   ]
  },
  {
   "cell_type": "code",
   "execution_count": null,
   "metadata": {
    "id": "yuoUWN9sUnCq"
   },
   "outputs": [],
   "source": [
    "import matplotlib.pyplot as plt\n",
    "#plot the loss\n",
    "plt.plot(cnn_model.history['loss'], label='train loss')\n",
    "plt.plot(cnn_model.history['val_loss'], label='val loss')\n",
    "plt.legend()\n",
    "plt.show()\n",
    "plt.savefig('LossVal_loss')\n",
    "\n",
    "#plot the accuracy\n",
    "plt.plot(cnn_model.history['accuracy'], label='train acc')\n",
    "plt.plot(cnn_model.history['val_accuracy'], label='val acc')\n",
    "plt.legend()\n",
    "plt.show()\n",
    "plt.savefig('AccVal_acc')"
   ]
  }
 ],
 "metadata": {
  "colab": {
   "collapsed_sections": [],
   "name": "mask_detection_jiya.ipynb",
   "provenance": []
  },
  "kernelspec": {
   "display_name": "Python 3",
   "language": "python",
   "name": "python3"
  },
  "language_info": {
   "codemirror_mode": {
    "name": "ipython",
    "version": 3
   },
   "file_extension": ".py",
   "mimetype": "text/x-python",
   "name": "python",
   "nbconvert_exporter": "python",
   "pygments_lexer": "ipython3",
   "version": "3.7.9"
  }
 },
 "nbformat": 4,
 "nbformat_minor": 1
}
