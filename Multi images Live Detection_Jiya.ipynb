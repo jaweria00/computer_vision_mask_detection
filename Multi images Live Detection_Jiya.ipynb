{
 "cells": [
  {
   "cell_type": "code",
   "execution_count": 1,
   "metadata": {},
   "outputs": [
    {
     "name": "stderr",
     "output_type": "stream",
     "text": [
      "Using TensorFlow backend.\n"
     ]
    }
   ],
   "source": [
    "# Own cnn  architecture - mask detection CNN.ipynb\n",
    "\n",
    "# import packages\n",
    "import cv2\n",
    "import os\n",
    "from keras.models import load_model\n",
    "from keras.preprocessing.image import load_img, img_to_array\n",
    "import numpy as np\n"
   ]
  },
  {
   "cell_type": "code",
   "execution_count": 2,
   "metadata": {},
   "outputs": [],
   "source": [
    "# load model # Accuracy=97.4 , validation Accuracy = 99.1 # very light model, size =5MB\n",
    "model = load_model('model/model_acc_958_vacc_986_epoch_50.h5')  # cnn"
   ]
  },
  {
   "cell_type": "code",
   "execution_count": 3,
   "metadata": {},
   "outputs": [],
   "source": [
    "# model accept below hight and width of the image\n",
    "img_width, img_hight = 200, 200\n"
   ]
  },
  {
   "cell_type": "code",
   "execution_count": 4,
   "metadata": {},
   "outputs": [],
   "source": [
    "# Load the Cascade face Classifier\n",
    "face_cascade = cv2.CascadeClassifier(\"haarcascades/haarcascade_frontalface_default.xml\")"
   ]
  },
  {
   "cell_type": "code",
   "execution_count": 5,
   "metadata": {},
   "outputs": [],
   "source": [
    "# parameters for text\n",
    "# font\n",
    "font = cv2.FONT_HERSHEY_SIMPLEX\n",
    "# org\n",
    "org = (1, 1)\n",
    "class_lable = ' '\n",
    "# fontScale\n",
    "fontScale = 1  # 0.5\n",
    "# Blue color in BGR\n",
    "color = (255, 0, 0)\n",
    "# Line thickness of 2 px\n",
    "thickness = 2  # 1"
   ]
  },
  {
   "cell_type": "code",
   "execution_count": 7,
   "metadata": {},
   "outputs": [],
   "source": [
    "img_path = os.path.join('temp')\n",
    "img_list = os.listdir(img_path)"
   ]
  },
  {
   "cell_type": "code",
   "execution_count": 10,
   "metadata": {},
   "outputs": [],
   "source": [
    "for img_name in img_list:\n",
    "    # read image from webcam\n",
    "    color_img = cv2.imread('temp/%s' % img_name)"
   ]
  },
  {
   "cell_type": "code",
   "execution_count": 11,
   "metadata": {},
   "outputs": [],
   "source": [
    "    # resize image with 50 % ratio\n",
    "    scale = 20\n",
    "    width = int(color_img.shape[1] * scale / 100)\n",
    "    height = int(color_img.shape[0] * scale / 100)\n",
    "    dim = (width, height)\n",
    "    # resize image\n",
    "    color_img = cv2.resize(color_img, dim, interpolation=cv2.INTER_AREA)"
   ]
  },
  {
   "cell_type": "code",
   "execution_count": 12,
   "metadata": {},
   "outputs": [],
   "source": [
    "    # Convert to grayscale\n",
    "    gray_img = cv2.cvtColor(color_img, cv2.COLOR_BGR2GRAY)"
   ]
  },
  {
   "cell_type": "code",
   "execution_count": 13,
   "metadata": {},
   "outputs": [],
   "source": [
    "    # Detect the faces\n",
    "    faces = face_cascade.detectMultiScale(gray_img, 1.1, 6)"
   ]
  },
  {
   "cell_type": "code",
   "execution_count": 14,
   "metadata": {},
   "outputs": [],
   "source": [
    "    # take face then predict class mask or not mask then draw recrangle and text then display image\n",
    "    img_count = 0\n",
    "    for (x, y, w, h) in faces:\n",
    "        org = (x - 10, y - 10)\n",
    "        img_count += 1\n",
    "        color_face = color_img[y:y + h, x:x + w]  # color face\n",
    "        cv2.imwrite('faces/input/%dface.jpg' % (img_count), color_face)\n",
    "        img = load_img('faces/input/%dface.jpg' % (img_count), target_size=(img_width, img_hight))\n",
    "\n",
    "        img = img_to_array(img) / 255\n",
    "        img = np.expand_dims(img, axis=0)\n",
    "        pred_prob = model.predict(img)\n",
    "        # print(pred_prob[0][0].round(2))\n",
    "        pred = np.argmax(pred_prob)\n",
    "\n",
    "        if pred == 0:\n",
    "            print(\"User with mask prediction score = \", pred_prob[0][0])\n",
    "            class_lable = \"Mask\"\n",
    "            color = (255, 0, 0)\n",
    "            cv2.imwrite('faces/with_mask/%dface.jpg' % (img_count), color_face)\n",
    "            cv2.rectangle(color_img, (x, y), (x + w, y + h), (0, 0, 255), 3)\n",
    "            # Using cv2.putText() method\n",
    "            cv2.putText(color_img, class_lable, org, font,\n",
    "                        fontScale, color, thickness, cv2.LINE_AA)\n",
    "            cv2.imwrite('faces/with_mask/%dmask.jpg' % (img_count), color_img)\n",
    "\n",
    "        else:\n",
    "            print('user not wearing mask score = ', pred_prob[0][1])\n",
    "            class_lable = \"No Mask\"\n",
    "            color = (0, 255, 0)\n",
    "            cv2.imwrite('faces/without_mask/%dface.jpg' % (img_count), color_face)\n",
    "            cv2.imwrite('faces/with_mask/%dno_mask.jpg' % (img_count), color_img)\n",
    "\n",
    "        cv2.rectangle(color_img, (x, y), (x + w, y + h), (0, 0, 255), 3)\n",
    "        # Using cv2.putText() method\n",
    "        cv2.putText(color_img, class_lable, org, font,\n",
    "                    fontScale, color, thickness, cv2.LINE_AA)"
   ]
  },
  {
   "cell_type": "code",
   "execution_count": null,
   "metadata": {},
   "outputs": [],
   "source": [
    "  # display image\n",
    "cv2.imshow('LIVE multiimageface mask detection', color_img)\n",
    "\n",
    "cv2.waitKey()"
   ]
  },
  {
   "cell_type": "code",
   "execution_count": null,
   "metadata": {},
   "outputs": [],
   "source": [
    "# close all windows\n",
    "cv2.destroyAllWindows()"
   ]
  }
 ],
 "metadata": {
  "kernelspec": {
   "display_name": "Python 3",
   "language": "python",
   "name": "python3"
  },
  "language_info": {
   "codemirror_mode": {
    "name": "ipython",
    "version": 3
   },
   "file_extension": ".py",
   "mimetype": "text/x-python",
   "name": "python",
   "nbconvert_exporter": "python",
   "pygments_lexer": "ipython3",
   "version": "3.7.9"
  }
 },
 "nbformat": 4,
 "nbformat_minor": 4
}
